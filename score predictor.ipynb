{
 "cells": [
  {
   "cell_type": "markdown",
   "id": "actual-heather",
   "metadata": {},
   "source": [
    "# TASK_1___ Score_predictor    "
   ]
  },
  {
   "cell_type": "code",
   "execution_count": 2,
   "id": "upset-adelaide",
   "metadata": {},
   "outputs": [],
   "source": [
    "import matplotlib.pyplot as plt\n",
    "import pandas as pd\n",
    "from sklearn import linear_model as lm\n",
    "url=\"https://raw.githubusercontent.com/AdiPersonalWorks/Random/master/student_scores%20-%20student_scores.csv\"\n",
    "df2=pd.read_csv(url)"
   ]
  },
  {
   "cell_type": "markdown",
   "id": "quiet-moisture",
   "metadata": {},
   "source": [
    "## Data"
   ]
  },
  {
   "cell_type": "code",
   "execution_count": 3,
   "id": "competent-cambridge",
   "metadata": {},
   "outputs": [
    {
     "name": "stdout",
     "output_type": "stream",
     "text": [
      "    Hours  Scores\n",
      "0     2.5      21\n",
      "1     5.1      47\n",
      "2     3.2      27\n",
      "3     8.5      75\n",
      "4     3.5      30\n",
      "5     1.5      20\n",
      "6     9.2      88\n",
      "7     5.5      60\n",
      "8     8.3      81\n",
      "9     2.7      25\n",
      "10    7.7      85\n",
      "11    5.9      62\n",
      "12    4.5      41\n",
      "13    3.3      42\n",
      "14    1.1      17\n",
      "15    8.9      95\n",
      "16    2.5      30\n",
      "17    1.9      24\n",
      "18    6.1      67\n",
      "19    7.4      69\n",
      "20    2.7      30\n",
      "21    4.8      54\n",
      "22    3.8      35\n",
      "23    6.9      76\n",
      "24    7.8      86\n"
     ]
    }
   ],
   "source": [
    "print(df2)"
   ]
  },
  {
   "cell_type": "markdown",
   "id": "unable-retro",
   "metadata": {},
   "source": [
    "## Scatter_plot  of the data"
   ]
  },
  {
   "cell_type": "code",
   "execution_count": 5,
   "id": "proved-blanket",
   "metadata": {},
   "outputs": [
    {
     "data": {
      "text/plain": [
       "Text(0, 0.5, 'Percentage scored')"
      ]
     },
     "execution_count": 5,
     "metadata": {},
     "output_type": "execute_result"
    },
    {
     "data": {
      "image/png": "[encoded data removed]",
      "text/plain": [
       "<Figure size 432x288 with 1 Axes>"
      ]
     },
     "metadata": {
      "needs_background": "light"
     },
     "output_type": "display_data"
    }
   ],
   "source": [
    "plt.scatter(df2.Hours,df2.Scores,color='red',marker='+')\n",
    "plt.xlabel('No. of Hours')\n",
    "plt.ylabel('Percentage scored')"
   ]
  },
  {
   "cell_type": "markdown",
   "id": "musical-cooperation",
   "metadata": {},
   "source": [
    "## Creating Linear_model"
   ]
  },
  {
   "cell_type": "code",
   "execution_count": 6,
   "id": "marked-vitamin",
   "metadata": {},
   "outputs": [
    {
     "data": {
      "text/plain": [
       "LinearRegression()"
      ]
     },
     "execution_count": 6,
     "metadata": {},
     "output_type": "execute_result"
    }
   ],
   "source": [
    "new_df2=df2.drop('Scores',axis='columns')\n",
    "predictor=lm.LinearRegression()\n",
    "predictor.fit(new_df2,df2.Scores)"
   ]
  },
  {
   "cell_type": "markdown",
   "id": "meaningful-marina",
   "metadata": {},
   "source": [
    "## Linear_Model_Plot"
   ]
  },
  {
   "cell_type": "code",
   "execution_count": 7,
   "id": "administrative-satin",
   "metadata": {},
   "outputs": [
    {
     "data": {
      "text/plain": [
       "Text(0, 0.5, 'Percentage scored')"
      ]
     },
     "execution_count": 7,
     "metadata": {},
     "output_type": "execute_result"
    },
    {
     "data": {
      "image/png": "[encoded data removed]",
      "text/plain": [
       "<Figure size 432x288 with 1 Axes>"
      ]
     },
     "metadata": {
      "needs_background": "light"
     },
     "output_type": "display_data"
    }
   ],
   "source": [
    "m=predictor.coef_\n",
    "b=predictor.intercept_\n",
    "x=df2.Hours\n",
    "y=m*x+b\n",
    "plt.scatter(df2.Hours,df2.Scores,color='red',marker='+')\n",
    "plt.plot(x,y,color='green')\n",
    "plt.xlabel('No. of Hours')\n",
    "plt.ylabel('Percentage scored')"
   ]
  },
  {
   "cell_type": "markdown",
   "id": "iraqi-equipment",
   "metadata": {},
   "source": [
    "## Conclusion"
   ]
  },
  {
   "cell_type": "code",
   "execution_count": 16,
   "id": "royal-lover",
   "metadata": {},
   "outputs": [
    {
     "name": "stdout",
     "output_type": "stream",
     "text": [
      "By studying 9.25 hrs a student might score= [92.90985477]\n"
     ]
    }
   ],
   "source": [
    "pm=predictor.predict([[9.25]])\n",
    "print(\"By studying 9.25 hrs a student might score=\",pm)"
   ]
  },
  {
   "cell_type": "markdown",
   "id": "cellular-beach",
   "metadata": {},
   "source": [
    "## By studying 9.25 hrs,  a student might score  93% "
   ]
  },
  {
   "cell_type": "markdown",
   "id": "dramatic-refund",
   "metadata": {},
   "source": []
  }
 ],
 "metadata": {
  "kernelspec": {
   "display_name": "Python 3",
   "language": "python",
   "name": "python3"
  },
  "language_info": {
   "codemirror_mode": {
    "name": "ipython",
    "version": 3
   },
   "file_extension": ".py",
   "mimetype": "text/x-python",
   "name": "python",
   "nbconvert_exporter": "python",
   "pygments_lexer": "ipython3",
   "version": "3.8.8"
  }
 },
 "nbformat": 4,
 "nbformat_minor": 5
}
